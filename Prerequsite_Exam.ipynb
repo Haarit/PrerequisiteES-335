{
 "cells": [
  {
   "cell_type": "markdown",
   "id": "865fc21c-5316-4417-8756-375779a4c6c7",
   "metadata": {},
   "source": [
    "*Chavda Haarit Ravindrakumar*\n",
    "*(23110077)*\n",
    "# ML Prerequisite Exam"
   ]
  },
  {
   "cell_type": "markdown",
   "id": "48cdcdc7-1a25-48c8-8e6f-fe789ab410f8",
   "metadata": {},
   "source": [
    "# Q1"
   ]
  },
  {
   "cell_type": "markdown",
   "id": "ec963fc9-e13e-48cc-ba3e-501f01d82fad",
   "metadata": {},
   "source": [
    "To perform matrix multiplication between a matrix of size n×k and a matrix of size k×m, resulting in a matrix of size n×mn×m, we need to carry out specific arithmetic operations. Each element in the resultant matrix is computed by multiplying corresponding elements from the k columns of the first matrix with the k rows of the second matrix, resulting in a total of n×m×k multiplication operations. Subsequently, these products are summed to form each element of the resultant matrix, requiring k−1 additions per element. Therefore, the total number of additions required is n×m×(k−1)."
   ]
  },
  {
   "cell_type": "markdown",
   "id": "34efdd29-b65d-41ef-b0b0-3ad22baefdb3",
   "metadata": {},
   "source": [
    "# Q2"
   ]
  },
  {
   "cell_type": "markdown",
   "id": "33178752-e23e-40ba-8a31-13e1a7bddc4c",
   "metadata": {},
   "source": [
    "Time taken by numpy is less than that of python loops because numpy uses vectorization to carry out simultaneous computations. This makes it faster as compared to python loops. Moreover, python loops are single threaded process and numpy uses multiple threads to perform computation. Numpy uses optimized C libraries and hence it is more  efficient in memory usage and computation."
   ]
  },
  {
   "cell_type": "code",
   "execution_count": 1,
   "id": "c951f98d-2e48-49d8-8349-26adced51823",
   "metadata": {},
   "outputs": [
    {
     "name": "stdout",
     "output_type": "stream",
     "text": [
      "Using the custom function ...\n",
      "[[24.18513397 20.68217169 22.6875579  ... 19.78668333 22.28278344\n",
      "  22.63626321]\n",
      " [28.65858062 22.91077957 25.67419618 ... 24.57768211 24.59458792\n",
      "  27.43332944]\n",
      " [27.3363717  23.4138681  25.7701793  ... 25.88886603 25.40232719\n",
      "  24.35895892]\n",
      " ...\n",
      " [26.05380901 22.26634638 25.48892426 ... 23.41671701 24.39070667\n",
      "  24.8685336 ]\n",
      " [26.20711477 21.40470138 23.09435728 ... 23.07381705 21.94572917\n",
      "  24.06588129]\n",
      " [23.87747057 20.24050027 21.86575366 ... 20.31861586 22.01946683\n",
      "  22.81716164]]\n",
      "Time taken :  1.8598361015319824\n",
      "\n",
      "\n",
      "\n",
      "Using numpy ..\n",
      "[[24.18513397 20.68217169 22.6875579  ... 19.78668333 22.28278344\n",
      "  22.63626321]\n",
      " [28.65858062 22.91077957 25.67419618 ... 24.57768211 24.59458792\n",
      "  27.43332944]\n",
      " [27.3363717  23.4138681  25.7701793  ... 25.88886603 25.40232719\n",
      "  24.35895892]\n",
      " ...\n",
      " [26.05380901 22.26634638 25.48892426 ... 23.41671701 24.39070667\n",
      "  24.8685336 ]\n",
      " [26.20711477 21.40470138 23.09435728 ... 23.07381705 21.94572917\n",
      "  24.06588129]\n",
      " [23.87747057 20.24050027 21.86575366 ... 20.31861586 22.01946683\n",
      "  22.81716164]]\n",
      "Time taken:  0.0\n"
     ]
    }
   ],
   "source": [
    "import numpy as np\n",
    "import time\n",
    "def multiply(A,B):\n",
    "    if (len(A[0])!=len(B)):\n",
    "        return [[-1]]\n",
    "\n",
    "    n = len(A)\n",
    "    k = len(A[0])\n",
    "    m = len(B[0])\n",
    "    C = []\n",
    "\n",
    "    for i in range(n):\n",
    "        temp = []\n",
    "        for l in range(m):\n",
    "            sum = 0\n",
    "            for j in range(k):\n",
    "                sum += A[i][j]*B[j][l]\n",
    "            temp.append(sum)\n",
    "        C.append(temp)\n",
    "    return C\n",
    "\n",
    "# A = [[1, 2],\n",
    "#     [3, 4],\n",
    "#     [5, 6]]\n",
    "\n",
    "# B = [[7, 8, 9],\n",
    "#      [10, 11, 12]]\n",
    "\n",
    "A = np.random.rand(200,100)\n",
    "B = np.random.rand(100,200)\n",
    "\n",
    "a = time.time()\n",
    "C1 = multiply(A,B)\n",
    "b = time.time()\n",
    "C2 = np.matmul(np.array(A),np.array(B))\n",
    "c = time.time()\n",
    "\n",
    "print(\"Using the custom function ...\")\n",
    "print(np.array(C1))\n",
    "print(\"Time taken : \",b-a)\n",
    "\n",
    "print(\"\\n\\n\")\n",
    "print(\"Using numpy ..\")\n",
    "print(C2)\n",
    "print(\"Time taken: \",c-b)"
   ]
  },
  {
   "cell_type": "markdown",
   "id": "f183d69d-6194-4cbf-a2b9-7b2026291866",
   "metadata": {},
   "source": [
    "# Q3"
   ]
  },
  {
   "cell_type": "markdown",
   "id": "28617dbe-0581-45f1-8233-83b7e6e5a397",
   "metadata": {},
   "source": [
    "Assume the length of array is n and by time complexity I mean average time complexity.\n",
    "\n",
    "Here I will be using four differnt approaches :\n",
    "\n",
    "1) ### Repeated Pass\n",
    "\n",
    "    In this method we will loop over the whole array n/2 times and store the nth maximum value. From this storage we will then use n and n-1th value to calculate the median.\n",
    "    So in this algo time complexity will be O(n*n/2) = O(n^2)\n",
    "3) ### Sorting the array\n",
    "\n",
    "    In this method we will sort the array the then use the n/2 and n/2 -1 indexes to calculate the median.\n",
    "    Sorting of array has time complexity of O(nlog(n)) and hence the for this algo time complexity will be O(nlog(n))\n",
    "4) ### Quick Select\n",
    "\n",
    "    We will find the n/2 and n/2-1  maximum element using quickselect and then use them to calculate the median.\n",
    "    Quick Select has time complexity of O(n). So for the algo the T.C = O(2n) = O(n)\n",
    "\n",
    "5) ### numpy.median\n",
    "\n",
    "    Efficient and can handle multidimensional arrays."
   ]
  },
  {
   "cell_type": "code",
   "execution_count": 2,
   "id": "9ca541e4-a641-49ef-8c2c-c871970fddc9",
   "metadata": {},
   "outputs": [
    {
     "name": "stdout",
     "output_type": "stream",
     "text": [
      "Median using repeated pass:\t\t 0.5017958880592466 \ttime taken 5.967045783996582\n",
      "Median using optimized approach 1:\t 0.5017958880592466 \ttime taken 0.008133888244628906\n",
      "Median using optimized approach 2:\t 0.5017958880592466 \ttime taken 0.006598711013793945\n",
      "Median using numpy:\t\t\t 0.5017958880592466 \ttime taken 0.0\n"
     ]
    }
   ],
   "source": [
    "import time\n",
    "import numpy as np\n",
    "def median_repeated_pass(arr):\n",
    "    dict1 = {}\n",
    "    \n",
    "    if not arr:\n",
    "        return None\n",
    "    \n",
    "    n = len(arr)\n",
    "    k = n // 2\n",
    "    \n",
    "    for _ in range(k + 1):\n",
    "        maxval = float('-inf')\n",
    "        for j in arr:\n",
    "            if j > maxval and j not in dict1.values():\n",
    "                maxval = j\n",
    "        dict1[_] = maxval\n",
    "        \n",
    "    if n % 2 == 1:\n",
    "        return dict1[k]\n",
    "    else:\n",
    "        return (dict1[k-1] + dict1[k]) / 2\n",
    "\n",
    "\n",
    "def median_optimized1(arr):\n",
    "    l = len(arr) // 2\n",
    "    arr1 = sorted(arr)  \n",
    "    \n",
    "    if len(arr) % 2 == 0:\n",
    "        return (arr1[l - 1] + arr1[l]) / 2\n",
    "    else:\n",
    "        return arr1[l]\n",
    "\n",
    "def swap(arr, i, j):\n",
    "    arr[i], arr[j] = arr[j], arr[i]\n",
    "\n",
    "def partition(arr, left, right):\n",
    "    pivot = left\n",
    "    i = left + 1\n",
    "    j = right\n",
    "\n",
    "    while True:\n",
    "        while i <= j and arr[i] <= arr[pivot]:\n",
    "            i += 1\n",
    "        while i <= j and arr[j] >= arr[pivot]:\n",
    "            j -= 1\n",
    "        if i < j:\n",
    "            swap(arr, i, j)\n",
    "        else:\n",
    "            break\n",
    "    swap(arr, pivot, j)\n",
    "    return j\n",
    "    \n",
    "def quickselect(arr, low, high, k):\n",
    "\n",
    "    if low == high:\n",
    "        return arr[low]\n",
    "        \n",
    "    index = partition(arr, low, high)\n",
    "    \n",
    "    if k < index:\n",
    "        return quickselect(arr, low, index - 1, k)\n",
    "    elif k > index:\n",
    "        return quickselect(arr, index + 1, high, k)\n",
    "    else:\n",
    "        return arr[index]\n",
    "\n",
    "def median_optimized2(arr):\n",
    "    n = len(arr)\n",
    "    mid = n // 2\n",
    "    \n",
    "    if n % 2 == 1:\n",
    "        return quickselect(arr, 0, n - 1, mid)\n",
    "    else:\n",
    "        return (quickselect(arr, 0, n - 1, mid - 1) + quickselect(arr, 0, n - 1, mid)) / 2\n",
    "\n",
    "\n",
    "\n",
    "\n",
    "arr = np.random.rand(2000)\n",
    "arr = list(arr)\n",
    "a = time.time()\n",
    "var1 = median_repeated_pass(arr)\n",
    "b = time.time()\n",
    "var2 = median_optimized1(arr)\n",
    "c = time.time()\n",
    "var3 = median_optimized2(arr)\n",
    "d = time.time()\n",
    "var4 = np.median(arr)\n",
    "e = time.time()\n",
    "\n",
    "print(\"Median using repeated pass:\\t\\t\",var1,\"\\ttime taken\",b-a)\n",
    "print(\"Median using optimized approach 1:\\t\",var2,\"\\ttime taken\",c-b)\n",
    "print(\"Median using optimized approach 2:\\t\",var3,\"\\ttime taken\",d-c)\n",
    "print(\"Median using numpy:\\t\\t\\t\",var4,\"\\ttime taken\",e-d)"
   ]
  },
  {
   "cell_type": "markdown",
   "id": "9df6c99f-bea8-474d-9ec7-85c47bd720b6",
   "metadata": {},
   "source": [
    "# Q4"
   ]
  },
  {
   "cell_type": "markdown",
   "id": "b48d36f9-270f-433a-bdd1-62707dfc3a5e",
   "metadata": {},
   "source": [
    "The gradient of the function with respect to x and y is : \n",
    "\n",
    "\n",
    "\n",
    "$$\n",
    "\\frac{\\partial f}{\\partial x} = 2xy + y^3 \\cos(x)\n",
    "$$\n",
    "\n",
    "\n",
    "$$\n",
    "\\frac{\\partial f}{\\partial y} = x^2 + 3y^2 \\sin(x)\n",
    "$$\n",
    "\n",
    "\n",
    "$$\n",
    "\\nabla f = \\left( 2xy + y^3 \\cos(x), x^2 + 3y^2 \\sin(x) \\right)\n",
    "$$\n"
   ]
  },
  {
   "cell_type": "markdown",
   "id": "f881495b-d13d-4fcd-81ea-25c318e8d4bb",
   "metadata": {},
   "source": [
    "# Q5"
   ]
  },
  {
   "cell_type": "code",
   "execution_count": 3,
   "id": "5d6fcffd-bd10-419d-887d-1b3fe4e2c59a",
   "metadata": {},
   "outputs": [
    {
     "name": "stdout",
     "output_type": "stream",
     "text": [
      "Gradient using custom function: ( 0.21129264 , 0.5246914 )\n",
      "Gradient using JAX:            (0.21129262  0.52469134  )\n",
      "\n",
      "Gradient using custom function: ( 0.3201883 , 0.22662094 )\n",
      "Gradient using JAX:            (0.3201883  0.22662094  )\n",
      "\n",
      "Gradient using custom function: ( 1.4018958 , 1.4062808 )\n",
      "Gradient using JAX:            (1.4018958  1.4062806  )\n",
      "\n",
      "Gradient using custom function: ( 0.1005943 , 0.12521899 )\n",
      "Gradient using JAX:            (0.10059429  0.12521897  )\n",
      "\n",
      "Gradient using custom function: ( 0.1161901 , 0.10754609 )\n",
      "Gradient using JAX:            (0.116190106  0.10754609  )\n",
      "\n",
      "Gradient using custom function: ( 0.4831532 , 0.039118 )\n",
      "Gradient using JAX:            (0.48315322  0.039118  )\n",
      "\n",
      "Gradient using custom function: ( 2.4430315 , 3.2379394 )\n",
      "Gradient using JAX:            (2.4430315  3.2379391  )\n",
      "\n",
      "Gradient using custom function: ( 0.4076559 , 0.40688777 )\n",
      "Gradient using JAX:            (0.4076559  0.40688777  )\n",
      "\n",
      "Gradient using custom function: ( 1.6100559 , 1.6301875 )\n",
      "Gradient using JAX:            (1.6100559  1.6301875  )\n",
      "\n",
      "Gradient using custom function: ( 0.034340415 , 0.9200423 )\n",
      "Gradient using JAX:            (0.034340415  0.9200423  )\n",
      "\n"
     ]
    }
   ],
   "source": [
    "import jax\n",
    "import jax.numpy as jnp\n",
    "import numpy as np\n",
    "\n",
    "def f(x, y):\n",
    "    return x**2 * y + y**3 * jnp.sin(x)\n",
    "\n",
    "def df_dx(x,y):\n",
    "    return ((2*x*y)+(y**3 * jnp.cos(x)))\n",
    "\n",
    "def df_dy(x,y):\n",
    "    return x**2 + 3 * (y**2) * jnp.sin(x)\n",
    "\n",
    "\n",
    "grad_f = jax.grad(f, argnums=(0, 1))\n",
    "\n",
    "for _ in range(10):\n",
    "    x_val = np.random.rand()\n",
    "    y_val = np.random.rand()\n",
    "    \n",
    "    custom_grad_x = df_dx(x_val, y_val)\n",
    "    custom_grad_y = df_dy(x_val, y_val)\n",
    "    \n",
    "    grad = grad_f(x_val, y_val)\n",
    "    \n",
    "    print(\"Gradient using custom function: (\", custom_grad_x, \",\", custom_grad_y, \")\")\n",
    "    \n",
    "    print(\"Gradient using JAX:            \", end=\"\")\n",
    "    print('(',end='')\n",
    "    for i in grad:\n",
    "        print(i, end=\"  \")\n",
    "    print(')',end='')\n",
    "    print('\\n')\n",
    "\n"
   ]
  },
  {
   "cell_type": "markdown",
   "id": "1ed5099b-8eae-4c56-878d-56a72194790d",
   "metadata": {},
   "source": [
    "# Q6"
   ]
  },
  {
   "cell_type": "code",
   "execution_count": 4,
   "id": "147d8185-a791-49a5-87c8-b75aad483aa5",
   "metadata": {},
   "outputs": [
    {
     "name": "stdout",
     "output_type": "stream",
     "text": [
      "Function:\n"
     ]
    },
    {
     "data": {
      "text/latex": [
       "$\\displaystyle x^{2} y + y^{3} \\sin{\\left(x \\right)}$"
      ],
      "text/plain": [
       "x**2*y + y**3*sin(x)"
      ]
     },
     "metadata": {},
     "output_type": "display_data"
    },
    {
     "name": "stdout",
     "output_type": "stream",
     "text": [
      "\n",
      "Gradient with respect to x:\n"
     ]
    },
    {
     "data": {
      "text/latex": [
       "$\\displaystyle 2 x y + y^{3} \\cos{\\left(x \\right)}$"
      ],
      "text/plain": [
       "2*x*y + y**3*cos(x)"
      ]
     },
     "metadata": {},
     "output_type": "display_data"
    },
    {
     "name": "stdout",
     "output_type": "stream",
     "text": [
      "\n",
      "\n",
      "Gradient with respect to y:\n"
     ]
    },
    {
     "data": {
      "text/latex": [
       "$\\displaystyle x^{2} + 3 y^{2} \\sin{\\left(x \\right)}$"
      ],
      "text/plain": [
       "x**2 + 3*y**2*sin(x)"
      ]
     },
     "metadata": {},
     "output_type": "display_data"
    }
   ],
   "source": [
    "import sympy as sp\n",
    "\n",
    "x, y = sp.symbols('x y')\n",
    "\n",
    "f = x**2 * y + y**3 * sp.sin(x)\n",
    "\n",
    "df_dx = sp.diff(f, x)\n",
    "df_dy = sp.diff(f, y)\n",
    "\n",
    "\n",
    "print(\"Function:\")\n",
    "display(f)\n",
    "\n",
    "print(\"\\nGradient with respect to x:\")\n",
    "display(df_dx)\n",
    "# sp.pprint(df_dx)\n",
    "\n",
    "print()\n",
    "\n",
    "print(\"\\nGradient with respect to y:\")\n",
    "# sp.pprint(df_dy)\n",
    "display(df_dy)\n"
   ]
  },
  {
   "cell_type": "markdown",
   "id": "cd5e5066-9e8a-4e04-81fc-0b6851d79ec7",
   "metadata": {},
   "source": [
    "# Q7"
   ]
  },
  {
   "cell_type": "code",
   "execution_count": 5,
   "id": "d4207e2e-b770-4da8-a205-886b8eff5485",
   "metadata": {},
   "outputs": [
    {
     "name": "stdout",
     "output_type": "stream",
     "text": [
      "Year: 2022\n",
      "  Computer Science:\n",
      "    Roll Number: 1, Name: Rahul\n",
      "    Marks:\n",
      "      Maths: 100\n",
      "      DSA: 70\n",
      "\n",
      "    Roll Number: 2, Name: Mohan\n",
      "    Marks:\n",
      "      Maths: 85\n",
      "      DSA: 90\n",
      "\n",
      "  Electrical:\n",
      "    Roll Number: 3, Name: Soham\n",
      "    Marks:\n",
      "      Maths: 78\n",
      "      Electronic Devices: 82\n",
      "\n",
      "\n",
      "Year: 2023\n",
      "  Computer Science:\n",
      "    Roll Number: 1, Name: Rahul\n",
      "    Marks:\n",
      "      Maths: 100\n",
      "      DSA: 70\n",
      "\n",
      "    Roll Number: 2, Name: Mohan\n",
      "    Marks:\n",
      "      Maths: 85\n",
      "      DSA: 90\n",
      "\n",
      "  Electrical:\n",
      "    Roll Number: 3, Name: Soham\n",
      "    Marks:\n",
      "      Maths: 78\n",
      "      Electronic Devices: 82\n",
      "\n",
      "\n",
      "Year: 2024\n",
      "  Computer Science:\n",
      "    Roll Number: 1, Name: Rahul\n",
      "    Marks:\n",
      "      Maths: 100\n",
      "      DSA: 70\n",
      "\n",
      "    Roll Number: 2, Name: Mohan\n",
      "    Marks:\n",
      "      Maths: 85\n",
      "      DSA: 90\n",
      "\n",
      "  Electrical:\n",
      "    Roll Number: 3, Name: Soham\n",
      "    Marks:\n",
      "      Maths: 78\n",
      "      Electronic Devices: 82\n",
      "\n",
      "\n",
      "Year: 2025\n",
      "  Computer Science:\n",
      "    Roll Number: 1, Name: Rahul\n",
      "    Marks:\n",
      "      Maths: 100\n",
      "      DSA: 70\n",
      "\n",
      "    Roll Number: 2, Name: Mohan\n",
      "    Marks:\n",
      "      Maths: 85\n",
      "      DSA: 90\n",
      "\n",
      "  Electrical:\n",
      "    Roll Number: 3, Name: Soham\n",
      "    Marks:\n",
      "      Maths: 78\n",
      "      Electronic Devices: 82\n",
      "\n",
      "\n"
     ]
    }
   ],
   "source": [
    "data = {\n",
    "    2022: {\n",
    "        'Computer Science': {\n",
    "            1: {'Name': 'Rahul', 'Marks': {'Maths': 100, 'DSA': 70}},\n",
    "            2: {'Name': 'Mohan', 'Marks': {'Maths': 85, 'DSA': 90}},\n",
    "        },\n",
    "        'Electrical': {\n",
    "            3: {'Name': 'Soham', 'Marks': {'Maths': 78, 'Electronic Devices': 82}},\n",
    "        }\n",
    "    },\n",
    "    2023: {\n",
    "        'Computer Science': {\n",
    "            1: {'Name': 'Rahul', 'Marks': {'Maths': 100, 'DSA': 70}},\n",
    "            2: {'Name': 'Mohan', 'Marks': {'Maths': 85, 'DSA': 90}},\n",
    "        },\n",
    "        'Electrical': {\n",
    "            3: {'Name': 'Soham', 'Marks': {'Maths': 78, 'Electronic Devices': 82}},\n",
    "        }\n",
    "    },\n",
    "    2024: {\n",
    "        'Computer Science': {\n",
    "            1: {'Name': 'Rahul', 'Marks': {'Maths': 100, 'DSA': 70}},\n",
    "            2: {'Name': 'Mohan', 'Marks': {'Maths': 85, 'DSA': 90}},\n",
    "        },\n",
    "        'Electrical': {\n",
    "            3: {'Name': 'Soham', 'Marks': {'Maths': 78, 'Electronic Devices': 82}},\n",
    "        }\n",
    "    },\n",
    "    2025: {\n",
    "        'Computer Science': {\n",
    "            1: {'Name': 'Rahul', 'Marks': {'Maths': 100, 'DSA': 70}},\n",
    "            2: {'Name': 'Mohan', 'Marks': {'Maths': 85, 'DSA': 90}},\n",
    "        },\n",
    "        'Electrical': {\n",
    "            3: {'Name': 'Soham', 'Marks': {'Maths': 78, 'Electronic Devices': 82}},\n",
    "        }\n",
    "    }\n",
    "}\n",
    "\n",
    "\n",
    "for year, branches in data.items():\n",
    "    print(f\"Year: {year}\")\n",
    "    for branch, students in branches.items():\n",
    "        print(f\"  {branch}:\")\n",
    "        for roll_number, student_info in students.items():\n",
    "            name = student_info['Name']\n",
    "            marks = student_info['Marks']\n",
    "            print(f\"    Roll Number: {roll_number}, Name: {name}\")\n",
    "            print(\"    Marks:\")\n",
    "            for subject, mark in marks.items():\n",
    "                print(f\"      {subject}: {mark}\")\n",
    "            print() \n",
    "    print()  \n",
    "\n"
   ]
  },
  {
   "cell_type": "markdown",
   "id": "2dae1944-5e9c-4d7f-8ce5-d0981ad73089",
   "metadata": {},
   "source": [
    "# Q8"
   ]
  },
  {
   "cell_type": "code",
   "execution_count": 6,
   "id": "cccfdc23-423d-48bb-a911-3dd8afb92ea8",
   "metadata": {},
   "outputs": [
    {
     "name": "stdout",
     "output_type": "stream",
     "text": [
      "Database:\n",
      "Year: 2022\n",
      "  Branch: Branch 1\n",
      "    Roll Number: 1, Name: Rahul, Marks: [Maths: 100, English: 70]\n",
      "    Roll Number: 2, Name: Mohan, Marks: [Maths: 85, English: 90]\n",
      "  Branch: Branch 2\n",
      "    Roll Number: 3, Name: Soham, Marks: [Maths: 78, English: 82]\n"
     ]
    }
   ],
   "source": [
    "class Student:\n",
    "    def __init__(self, roll_number, name, marks):\n",
    "        self.roll_number = roll_number\n",
    "        self.name = name\n",
    "        self.marks = marks\n",
    "\n",
    "    def __str__(self):\n",
    "        marks_str = \", \".join(f\"{subject}: {mark}\" for subject, mark in self.marks.items())\n",
    "        return f\"Roll Number: {self.roll_number}, Name: {self.name}, Marks: [{marks_str}]\"\n",
    "\n",
    "class Branch:\n",
    "    def __init__(self, name):\n",
    "        self.name = name\n",
    "        self.students = []\n",
    "\n",
    "    def add_student(self, student):\n",
    "        self.students.append(student)\n",
    "\n",
    "    def __str__(self):\n",
    "        students_str = \"\\n    \".join(str(student) for student in self.students)\n",
    "        return f\"Branch: {self.name}\\n    {students_str}\"\n",
    "\n",
    "class Year:\n",
    "    def __init__(self, year):\n",
    "        self.year = year\n",
    "        self.branches = []\n",
    "\n",
    "    def add_branch(self, branch):\n",
    "        self.branches.append(branch)\n",
    "\n",
    "    def __str__(self):\n",
    "        branches_str = \"\\n  \".join(str(branch) for branch in self.branches)\n",
    "        return f\"Year: {self.year}\\n  {branches_str}\"\n",
    "\n",
    "class Database:\n",
    "    def __init__(self):\n",
    "        self.years = []\n",
    "\n",
    "    def add_year(self, year):\n",
    "        self.years.append(year)\n",
    "\n",
    "    def __str__(self):\n",
    "        years_str = \"\\n\".join(str(year) for year in self.years)\n",
    "        return f\"Database:\\n{years_str}\"\n",
    "\n",
    "\n",
    "db = Database()\n",
    "\n",
    "year_2022 = Year(2022)\n",
    "branch_1_2022 = Branch(\"Branch 1\")\n",
    "branch_1_2022.add_student(Student(1, \"Rahul\", {\"Maths\": 100, \"English\": 70}))\n",
    "branch_1_2022.add_student(Student(2, \"Mohan\", {\"Maths\": 85, \"English\": 90}))\n",
    "year_2022.add_branch(branch_1_2022)\n",
    "\n",
    "branch_2_2022 = Branch(\"Branch 2\")\n",
    "branch_2_2022.add_student(Student(3, \"Soham\", {\"Maths\": 78, \"English\": 82}))\n",
    "year_2022.add_branch(branch_2_2022)\n",
    "\n",
    "db.add_year(year_2022)\n",
    "\n",
    "print(db)\n"
   ]
  },
  {
   "cell_type": "markdown",
   "id": "e5e086b6-8e36-4aa6-8d4a-efceb7f9a362",
   "metadata": {},
   "source": [
    "# Q9"
   ]
  },
  {
   "cell_type": "code",
   "execution_count": 7,
   "id": "afe9d35f-1a47-433f-b308-0b19512925d1",
   "metadata": {},
   "outputs": [
    {
     "data": {
      "image/png": "[encoded data removed]",
      "text/plain": [
       "<Figure size 640x480 with 1 Axes>"
      ]
     },
     "metadata": {},
     "output_type": "display_data"
    },
    {
     "data": {
      "image/png": "[encoded data removed]",
      "text/plain": [
       "<Figure size 640x480 with 1 Axes>"
      ]
     },
     "metadata": {},
     "output_type": "display_data"
    }
   ],
   "source": [
    "import matplotlib.pyplot as plt\n",
    "import numpy as np\n",
    "\n",
    "x = np.arange(0.5,100,0.5)\n",
    "\n",
    "fig = plt.figure()\n",
    "plt.grid()\n",
    "plt.plot(x,x,label = \"y=x\")\n",
    "plt.plot(x,x**2,label = \"y=x^2\")\n",
    "plt.plot(x,(x**3)/100,label = \"y= (x^3)/100\")\n",
    "plt.plot(x,np.sin(x),label = \"y=sin(x)\")\n",
    "plt.plot(x,np.sin(x)/x,label = \"y = sin(x)/x\")\n",
    "plt.plot(x,np.log10(x),label = \"y=log(x)\")\n",
    "\n",
    "plt.title(\"Graphs of Functions\")\n",
    "plt.xlabel(\"X\")\n",
    "plt.ylabel(\"Y\")\n",
    "plt.legend()\n",
    "plt.show()\n",
    "\n",
    "plt.plot(x,np.exp(x),label = \"y=e^x\")\n",
    "plt.grid()\n",
    "plt.legend()\n",
    "plt.xlabel(\"X\")\n",
    "plt.ylabel(\"Y\")\n",
    "plt.show()"
   ]
  },
  {
   "cell_type": "markdown",
   "id": "63454c28-a017-4b2d-be0c-c223aca10638",
   "metadata": {},
   "source": [
    "# Q10"
   ]
  },
  {
   "cell_type": "code",
   "execution_count": 8,
   "id": "1b35c483-3742-49c8-8fa0-01c75fe36759",
   "metadata": {},
   "outputs": [
    {
     "name": "stdout",
     "output_type": "stream",
     "text": [
      "The Column with maximum standard deviation is : c   and the max deviations is:  0.3145722594665774\n",
      "The row with minimum mean is:  10  and the min mean value is:  10\n"
     ]
    }
   ],
   "source": [
    "import numpy as np\n",
    "import pandas as pd\n",
    "\n",
    "mat = np.random.uniform(1,2,(20,5))\n",
    "\n",
    "mat_df = pd.DataFrame(mat,columns=[\"a\",\"b\",\"c\",\"d\",\"e\"])\n",
    "\n",
    "std_columns_value = mat_df.std().max()\n",
    "std_columns_index = mat_df.std().idxmax()\n",
    "print(\"The Column with maximum standard deviation is :\", std_columns_index,\"  and the max deviations is: \",std_columns_value)\n",
    "\n",
    "mean_row_value = mat_df.mean(axis=1).min()\n",
    "mean_row_index = mat_df.mean(axis=1).idxmin()\n",
    "print(\"The row with minimum mean is: \",mean_row_index,\" and the min mean value is: \", mean_row_index)"
   ]
  },
  {
   "cell_type": "markdown",
   "id": "62b9706a-8436-4a84-9454-2bd0be27a300",
   "metadata": {},
   "source": [
    "# Q11"
   ]
  },
  {
   "cell_type": "code",
   "execution_count": 9,
   "id": "28b91213-1fa9-4319-9d7d-a0ebeb78a99e",
   "metadata": {},
   "outputs": [
    {
     "name": "stdout",
     "output_type": "stream",
     "text": [
      "Number of rows with value of 'g' as GT8 are:  5\n",
      "Number of rows with value of 'g' as LT8 are:  15\n",
      "The standard deviation for LT8: 0.5370744209179426\n",
      "The standard deviation for GT8: 0.09776826462489387\n"
     ]
    }
   ],
   "source": [
    "mat_df['f'] = mat_df.sum(axis=1)\n",
    "mat_df['g'] = np.where(mat_df['f'] >= 8, 'GT8', 'LT8')\n",
    "\n",
    "mat_df_lt = mat_df[mat_df['g'] == 'LT8']\n",
    "mat_df_gt = mat_df[mat_df['g'] == 'GT8']\n",
    "\n",
    "print(\"Number of rows with value of 'g' as GT8 are: \",mat_df_gt.shape[0])\n",
    "print(\"Number of rows with value of 'g' as LT8 are: \",mat_df_lt.shape[0])\n",
    "\n",
    "std_lt = mat_df_lt['f'].std()\n",
    "std_gt = mat_df_gt['f'].std()\n",
    "\n",
    "print('The standard deviation for LT8:',std_lt)\n",
    "print('The standard deviation for GT8:',std_gt)"
   ]
  },
  {
   "cell_type": "markdown",
   "id": "4d21550d-b9b2-4e5b-800c-c4b5b130539a",
   "metadata": {},
   "source": [
    "# Q12"
   ]
  },
  {
   "cell_type": "markdown",
   "id": "32d4bb0c-b145-4c1e-ad30-aae6fd9767c4",
   "metadata": {},
   "source": [
    "Broadcasting is process of transforming the smaller correspoinding to the dimensions of the larger array. This is done to vectorize the operations so that python loops can be avoided and computation is done efficiently. \n",
    "\n",
    "Simplest example:  \n",
    "consider we add \\[1 2 3] and \\[2] then the resultant will be \\[3,4,5]. This is because \\[2] is stretched to \\[2,2,2] and then added to the prior array.\n",
    "\n",
    "Two arrays are broadcastable if and only if the trailing dimensions of the arrays are equal or last dimension of one of the array is 1."
   ]
  },
  {
   "cell_type": "code",
   "execution_count": 10,
   "id": "34052165-aca5-4b51-9d38-dac57286b1fd",
   "metadata": {},
   "outputs": [
    {
     "name": "stdout",
     "output_type": "stream",
     "text": [
      "Matrix 1:\n",
      "[[1 2 3]\n",
      " [4 5 6]]\n",
      "Matrix 2:\n",
      "[10 20 30]\n",
      "\n",
      "Matrix 2 after broadcast\n",
      " [[10 20 30]\n",
      " [10 20 30]]\n",
      "\n",
      "Result of broadcasting:\n",
      "[[11 22 33]\n",
      " [14 25 36]]\n"
     ]
    }
   ],
   "source": [
    "import numpy as np\n",
    "\n",
    "mat1 = np.array([[1, 2, 3], [4, 5, 6]])\n",
    "mat2 = np.array([10, 20, 30])\n",
    "\n",
    "result = mat1 + mat2\n",
    "\n",
    "print(\"Matrix 1:\")\n",
    "print(mat1)\n",
    "print(\"Matrix 2:\")\n",
    "print(mat2)\n",
    "\n",
    "print(\"\\nMatrix 2 after broadcast\\n\",np.array([[10,20,30],[10,20,30]]))\n",
    "print(\"\\nResult of broadcasting:\")\n",
    "print(result)\n"
   ]
  },
  {
   "cell_type": "markdown",
   "id": "e6e7b817-5a1a-4712-85ad-18c9cf840dbb",
   "metadata": {},
   "source": [
    "# Q13"
   ]
  },
  {
   "cell_type": "code",
   "execution_count": 11,
   "id": "3e38ff20-978a-42a2-a218-7ed2f0ee3953",
   "metadata": {},
   "outputs": [
    {
     "name": "stdout",
     "output_type": "stream",
     "text": [
      "Argmin using custom fucntion:  5\n",
      "Argmin using numpy function :  5\n"
     ]
    }
   ],
   "source": [
    "\n",
    "def argmin(arr):\n",
    "    minindex = 0\n",
    "    minvalue = arr[0]\n",
    "    for i in range(1, len(arr)):\n",
    "        if arr[i] < minvalue:\n",
    "            minvalue = arr[i]\n",
    "            minindex = i\n",
    "    \n",
    "    return minindex\n",
    "\n",
    "arr = np.array([13,7,10,13,9,4,23])\n",
    "\n",
    "print(\"Argmin using custom fucntion: \",argmin(arr))\n",
    "print(\"Argmin using numpy function : \",np.argmin(arr))"
   ]
  },
  {
   "cell_type": "code",
   "execution_count": null,
   "id": "9dafcea8-596b-4d00-b965-eac0668bb338",
   "metadata": {},
   "outputs": [],
   "source": []
  }
 ],
 "metadata": {
  "kernelspec": {
   "display_name": "Python 3 (ipykernel)",
   "language": "python",
   "name": "python3"
  },
  "language_info": {
   "codemirror_mode": {
    "name": "ipython",
    "version": 3
   },
   "file_extension": ".py",
   "mimetype": "text/x-python",
   "name": "python",
   "nbconvert_exporter": "python",
   "pygments_lexer": "ipython3",
   "version": "3.12.2"
  }
 },
 "nbformat": 4,
 "nbformat_minor": 5
}
